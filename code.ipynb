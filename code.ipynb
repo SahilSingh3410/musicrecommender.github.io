{
 "cells": [
  {
   "cell_type": "code",
   "execution_count": 1,
   "id": "281b1a2d",
   "metadata": {},
   "outputs": [],
   "source": [
    "import numpy as np\n",
    "import pandas as pd"
   ]
  },
  {
   "cell_type": "code",
   "execution_count": 159,
   "id": "e35616b7",
   "metadata": {},
   "outputs": [
    {
     "data": {
      "text/plain": [
       "(1851, 15)"
      ]
     },
     "execution_count": 159,
     "metadata": {},
     "output_type": "execute_result"
    }
   ],
   "source": [
    "df = pd.read_csv('SingerAndSongs.csv')\n",
    "df.rename(columns={'Song name':'title'},inplace = True)\n",
    "df.drop_duplicates(subset = 'title',keep = 'first',inplace = True)\n",
    "df.shape"
   ]
  },
  {
   "cell_type": "code",
   "execution_count": 152,
   "id": "c3fc6f4a",
   "metadata": {},
   "outputs": [],
   "source": [
    "df.dropna(inplace=True)"
   ]
  },
  {
   "cell_type": "code",
   "execution_count": 153,
   "id": "20301f66",
   "metadata": {},
   "outputs": [
    {
     "data": {
      "text/plain": [
       "Singer              0\n",
       "acousticness        0\n",
       "danceability        0\n",
       "energy              0\n",
       "id                  0\n",
       "instrumentalness    0\n",
       "key                 0\n",
       "liveness            0\n",
       "loudness            0\n",
       "mode                0\n",
       "title               0\n",
       "speechiness         0\n",
       "tempo               0\n",
       "track_href          0\n",
       "valence             0\n",
       "dtype: int64"
      ]
     },
     "execution_count": 153,
     "metadata": {},
     "output_type": "execute_result"
    }
   ],
   "source": [
    "df.isnull().sum()"
   ]
  },
  {
   "cell_type": "code",
   "execution_count": 154,
   "id": "ff73c0a1",
   "metadata": {},
   "outputs": [],
   "source": [
    "df.drop_duplicates(inplace = True)"
   ]
  },
  {
   "cell_type": "code",
   "execution_count": 155,
   "id": "c93f95f7",
   "metadata": {},
   "outputs": [
    {
     "data": {
      "text/plain": [
       "0"
      ]
     },
     "execution_count": 155,
     "metadata": {},
     "output_type": "execute_result"
    }
   ],
   "source": [
    "df.duplicated().sum()"
   ]
  },
  {
   "cell_type": "code",
   "execution_count": 156,
   "id": "209a040d",
   "metadata": {},
   "outputs": [],
   "source": [
    "new_df = df[['acousticness','danceability','energy','instrumentalness','key','liveness','loudness','mode','speechiness','tempo','valence']]"
   ]
  },
  {
   "cell_type": "code",
   "execution_count": 160,
   "id": "12674b8e",
   "metadata": {},
   "outputs": [
    {
     "data": {
      "text/plain": [
       "(1850, 11)"
      ]
     },
     "execution_count": 160,
     "metadata": {},
     "output_type": "execute_result"
    }
   ],
   "source": [
    "new_df.shape"
   ]
  },
  {
   "cell_type": "code",
   "execution_count": 51,
   "id": "2b5bed48",
   "metadata": {},
   "outputs": [],
   "source": [
    "# from sklearn.feature_extraction.text import CountVectorizer\n",
    "# cv = CountVectorizer()"
   ]
  },
  {
   "cell_type": "code",
   "execution_count": 115,
   "id": "b7b68b5d",
   "metadata": {},
   "outputs": [],
   "source": [
    "# temp = cv.fit_transform(new_df).toarray()\n",
    "# temp"
   ]
  },
  {
   "cell_type": "code",
   "execution_count": 161,
   "id": "84cc31ca",
   "metadata": {},
   "outputs": [],
   "source": [
    "from sklearn.metrics.pairwise import cosine_similarity"
   ]
  },
  {
   "cell_type": "code",
   "execution_count": 163,
   "id": "7f0d387e",
   "metadata": {
    "scrolled": false
   },
   "outputs": [
    {
     "data": {
      "text/plain": [
       "(1850, 1850)"
      ]
     },
     "execution_count": 163,
     "metadata": {},
     "output_type": "execute_result"
    }
   ],
   "source": [
    "similarity = cosine_similarity(new_df)\n",
    "similarity.shape"
   ]
  },
  {
   "cell_type": "code",
   "execution_count": 165,
   "id": "2b7a618a",
   "metadata": {},
   "outputs": [
    {
     "data": {
      "text/plain": [
       "[(164, 0.9999930905227642),\n",
       " (358, 0.9999929755611163),\n",
       " (817, 0.9999848974424159),\n",
       " (1349, 0.9999831552005755),\n",
       " (133, 0.9999816950522253)]"
      ]
     },
     "execution_count": 165,
     "metadata": {},
     "output_type": "execute_result"
    }
   ],
   "source": [
    "sorted(list(enumerate(similarity[0])),reverse = True,key = lambda x:x[1])[1:6]"
   ]
  },
  {
   "cell_type": "code",
   "execution_count": 166,
   "id": "a5e07b57",
   "metadata": {},
   "outputs": [],
   "source": [
    "def recommender(song):\n",
    "    song_index = df[df['title'] == song].index[0]\n",
    "    distances = similarity[song_index]\n",
    "    songs_list = sorted(list(enumerate(distances)),reverse = True,key = lambda x:x[1])[1:6]\n",
    "    for i in songs_list:\n",
    "        print(df.iloc[i[0]].title)"
   ]
  },
  {
   "cell_type": "code",
   "execution_count": 169,
   "id": "65a9a11b",
   "metadata": {},
   "outputs": [
    {
     "name": "stdout",
     "output_type": "stream",
     "text": [
      "Ainvayi Ainvayi\n",
      "Deedar De (From \"Chhalaang\")\n",
      "Mukhda\n",
      "Dill Ton Blacck\n",
      "Nashe Si Chadh Gayi\n"
     ]
    }
   ],
   "source": [
    "recommender('Kamariya')"
   ]
  },
  {
   "cell_type": "code",
   "execution_count": null,
   "id": "097c0162",
   "metadata": {},
   "outputs": [],
   "source": []
  },
  {
   "cell_type": "code",
   "execution_count": 170,
   "id": "482b2a6d",
   "metadata": {},
   "outputs": [],
   "source": [
    "import pickle"
   ]
  },
  {
   "cell_type": "code",
   "execution_count": 171,
   "id": "da6e79af",
   "metadata": {},
   "outputs": [],
   "source": [
    "pickle.dump(df.to_dict(),open('songs_dict.pkl','wb'))"
   ]
  },
  {
   "cell_type": "code",
   "execution_count": 173,
   "id": "457d3c14",
   "metadata": {},
   "outputs": [],
   "source": [
    "pickle.dump(similarity,open('similarity.pkl','wb'))"
   ]
  },
  {
   "cell_type": "code",
   "execution_count": null,
   "id": "6533ecdf",
   "metadata": {},
   "outputs": [],
   "source": []
  },
  {
   "cell_type": "code",
   "execution_count": 181,
   "id": "9a462b46",
   "metadata": {},
   "outputs": [
    {
     "data": {
      "text/plain": [
       "0       https://api.spotify.com/v1/tracks/39ujbBjTwwqU...\n",
       "1       https://api.spotify.com/v1/tracks/5cjVsWqIkBQC...\n",
       "2       https://api.spotify.com/v1/tracks/3XYvdqcZrTmR...\n",
       "3       https://api.spotify.com/v1/tracks/46GBoFCdFZZS...\n",
       "4       https://api.spotify.com/v1/tracks/6VwVEIiCro1E...\n",
       "                              ...                        \n",
       "2223    https://api.spotify.com/v1/tracks/24wb8Da2xkll...\n",
       "2224    https://api.spotify.com/v1/tracks/1yzetU0NF7DW...\n",
       "2226    https://api.spotify.com/v1/tracks/39bx4zZrPxTj...\n",
       "2227    https://api.spotify.com/v1/tracks/1d11xbMYeK2l...\n",
       "2229    https://api.spotify.com/v1/tracks/0zOiF5Cs58PS...\n",
       "Name: track_href, Length: 1851, dtype: object"
      ]
     },
     "execution_count": 181,
     "metadata": {},
     "output_type": "execute_result"
    }
   ],
   "source": [
    "df['track_href']"
   ]
  },
  {
   "cell_type": "code",
   "execution_count": 177,
   "id": "0e069917",
   "metadata": {},
   "outputs": [
    {
     "data": {
      "text/html": [
       "<div>\n",
       "<style scoped>\n",
       "    .dataframe tbody tr th:only-of-type {\n",
       "        vertical-align: middle;\n",
       "    }\n",
       "\n",
       "    .dataframe tbody tr th {\n",
       "        vertical-align: top;\n",
       "    }\n",
       "\n",
       "    .dataframe thead th {\n",
       "        text-align: right;\n",
       "    }\n",
       "</style>\n",
       "<table border=\"1\" class=\"dataframe\">\n",
       "  <thead>\n",
       "    <tr style=\"text-align: right;\">\n",
       "      <th></th>\n",
       "      <th>Singer</th>\n",
       "      <th>acousticness</th>\n",
       "      <th>danceability</th>\n",
       "      <th>energy</th>\n",
       "      <th>id</th>\n",
       "      <th>instrumentalness</th>\n",
       "      <th>key</th>\n",
       "      <th>liveness</th>\n",
       "      <th>loudness</th>\n",
       "      <th>mode</th>\n",
       "      <th>title</th>\n",
       "      <th>speechiness</th>\n",
       "      <th>tempo</th>\n",
       "      <th>track_href</th>\n",
       "      <th>valence</th>\n",
       "    </tr>\n",
       "  </thead>\n",
       "  <tbody>\n",
       "    <tr>\n",
       "      <th>0</th>\n",
       "      <td>Aastha Gill</td>\n",
       "      <td>0.48500</td>\n",
       "      <td>0.770</td>\n",
       "      <td>0.824</td>\n",
       "      <td>39ujbBjTwwqUFySaCYDMMT</td>\n",
       "      <td>0.000000</td>\n",
       "      <td>1</td>\n",
       "      <td>0.3180</td>\n",
       "      <td>-6.491</td>\n",
       "      <td>0</td>\n",
       "      <td>Proper Patola</td>\n",
       "      <td>0.0851</td>\n",
       "      <td>172.006</td>\n",
       "      <td>https://api.spotify.com/v1/tracks/39ujbBjTwwqU...</td>\n",
       "      <td>0.490</td>\n",
       "    </tr>\n",
       "    <tr>\n",
       "      <th>1</th>\n",
       "      <td>Aastha Gill</td>\n",
       "      <td>0.14300</td>\n",
       "      <td>0.825</td>\n",
       "      <td>0.666</td>\n",
       "      <td>5cjVsWqIkBQC7acTRhL0RO</td>\n",
       "      <td>0.000003</td>\n",
       "      <td>4</td>\n",
       "      <td>0.2370</td>\n",
       "      <td>-4.847</td>\n",
       "      <td>0</td>\n",
       "      <td>Kamariya</td>\n",
       "      <td>0.0554</td>\n",
       "      <td>96.987</td>\n",
       "      <td>https://api.spotify.com/v1/tracks/5cjVsWqIkBQC...</td>\n",
       "      <td>0.763</td>\n",
       "    </tr>\n",
       "    <tr>\n",
       "      <th>2</th>\n",
       "      <td>Aastha Gill</td>\n",
       "      <td>0.23600</td>\n",
       "      <td>0.663</td>\n",
       "      <td>0.551</td>\n",
       "      <td>3XYvdqcZrTmRntFDDbJkJd</td>\n",
       "      <td>0.000036</td>\n",
       "      <td>3</td>\n",
       "      <td>0.0923</td>\n",
       "      <td>-8.272</td>\n",
       "      <td>0</td>\n",
       "      <td>Buzz (feat. Badshah)</td>\n",
       "      <td>0.1090</td>\n",
       "      <td>113.314</td>\n",
       "      <td>https://api.spotify.com/v1/tracks/3XYvdqcZrTmR...</td>\n",
       "      <td>0.601</td>\n",
       "    </tr>\n",
       "    <tr>\n",
       "      <th>3</th>\n",
       "      <td>Aastha Gill</td>\n",
       "      <td>0.00323</td>\n",
       "      <td>0.919</td>\n",
       "      <td>0.571</td>\n",
       "      <td>46GBoFCdFZZSjuGaZjZmGv</td>\n",
       "      <td>0.001680</td>\n",
       "      <td>5</td>\n",
       "      <td>0.1030</td>\n",
       "      <td>-7.175</td>\n",
       "      <td>0</td>\n",
       "      <td>Saara India</td>\n",
       "      <td>0.0687</td>\n",
       "      <td>105.007</td>\n",
       "      <td>https://api.spotify.com/v1/tracks/46GBoFCdFZZS...</td>\n",
       "      <td>0.231</td>\n",
       "    </tr>\n",
       "    <tr>\n",
       "      <th>4</th>\n",
       "      <td>Aastha Gill</td>\n",
       "      <td>0.12900</td>\n",
       "      <td>0.867</td>\n",
       "      <td>0.720</td>\n",
       "      <td>6VwVEIiCro1EMyh9B6Om3v</td>\n",
       "      <td>0.000000</td>\n",
       "      <td>9</td>\n",
       "      <td>0.2280</td>\n",
       "      <td>-5.188</td>\n",
       "      <td>0</td>\n",
       "      <td>Drunk n High</td>\n",
       "      <td>0.0619</td>\n",
       "      <td>104.974</td>\n",
       "      <td>https://api.spotify.com/v1/tracks/6VwVEIiCro1E...</td>\n",
       "      <td>0.755</td>\n",
       "    </tr>\n",
       "    <tr>\n",
       "      <th>...</th>\n",
       "      <td>...</td>\n",
       "      <td>...</td>\n",
       "      <td>...</td>\n",
       "      <td>...</td>\n",
       "      <td>...</td>\n",
       "      <td>...</td>\n",
       "      <td>...</td>\n",
       "      <td>...</td>\n",
       "      <td>...</td>\n",
       "      <td>...</td>\n",
       "      <td>...</td>\n",
       "      <td>...</td>\n",
       "      <td>...</td>\n",
       "      <td>...</td>\n",
       "      <td>...</td>\n",
       "    </tr>\n",
       "    <tr>\n",
       "      <th>2223</th>\n",
       "      <td>Vishal Dadlani</td>\n",
       "      <td>0.16500</td>\n",
       "      <td>0.741</td>\n",
       "      <td>0.711</td>\n",
       "      <td>24wb8Da2xkll8xZTjz0P6J</td>\n",
       "      <td>0.000000</td>\n",
       "      <td>2</td>\n",
       "      <td>0.0446</td>\n",
       "      <td>-8.402</td>\n",
       "      <td>1</td>\n",
       "      <td>Ratta Maar</td>\n",
       "      <td>0.0407</td>\n",
       "      <td>124.987</td>\n",
       "      <td>https://api.spotify.com/v1/tracks/24wb8Da2xkll...</td>\n",
       "      <td>0.677</td>\n",
       "    </tr>\n",
       "    <tr>\n",
       "      <th>2224</th>\n",
       "      <td>Vishal Dadlani</td>\n",
       "      <td>0.16800</td>\n",
       "      <td>0.588</td>\n",
       "      <td>0.852</td>\n",
       "      <td>1yzetU0NF7DWaMIyjkDiJO</td>\n",
       "      <td>0.000006</td>\n",
       "      <td>2</td>\n",
       "      <td>0.1630</td>\n",
       "      <td>-6.356</td>\n",
       "      <td>1</td>\n",
       "      <td>Sainika</td>\n",
       "      <td>0.0655</td>\n",
       "      <td>113.910</td>\n",
       "      <td>https://api.spotify.com/v1/tracks/1yzetU0NF7DW...</td>\n",
       "      <td>0.502</td>\n",
       "    </tr>\n",
       "    <tr>\n",
       "      <th>2226</th>\n",
       "      <td>Vishal Dadlani</td>\n",
       "      <td>0.06300</td>\n",
       "      <td>0.701</td>\n",
       "      <td>0.966</td>\n",
       "      <td>39bx4zZrPxTjw8VNuvjt6X</td>\n",
       "      <td>0.066200</td>\n",
       "      <td>0</td>\n",
       "      <td>0.0761</td>\n",
       "      <td>-5.360</td>\n",
       "      <td>1</td>\n",
       "      <td>Criminal</td>\n",
       "      <td>0.0568</td>\n",
       "      <td>132.015</td>\n",
       "      <td>https://api.spotify.com/v1/tracks/39bx4zZrPxTj...</td>\n",
       "      <td>0.834</td>\n",
       "    </tr>\n",
       "    <tr>\n",
       "      <th>2227</th>\n",
       "      <td>Vishal Dadlani</td>\n",
       "      <td>0.01370</td>\n",
       "      <td>0.524</td>\n",
       "      <td>0.753</td>\n",
       "      <td>1d11xbMYeK2ldGOl5QiV2e</td>\n",
       "      <td>0.000000</td>\n",
       "      <td>3</td>\n",
       "      <td>0.1040</td>\n",
       "      <td>-6.596</td>\n",
       "      <td>1</td>\n",
       "      <td>Aao Na</td>\n",
       "      <td>0.0430</td>\n",
       "      <td>135.947</td>\n",
       "      <td>https://api.spotify.com/v1/tracks/1d11xbMYeK2l...</td>\n",
       "      <td>0.560</td>\n",
       "    </tr>\n",
       "    <tr>\n",
       "      <th>2229</th>\n",
       "      <td>Vishal Dadlani</td>\n",
       "      <td>0.00926</td>\n",
       "      <td>0.841</td>\n",
       "      <td>0.536</td>\n",
       "      <td>0zOiF5Cs58PST28uE7gsGf</td>\n",
       "      <td>0.000000</td>\n",
       "      <td>7</td>\n",
       "      <td>0.0665</td>\n",
       "      <td>-9.121</td>\n",
       "      <td>1</td>\n",
       "      <td>Jame Raho</td>\n",
       "      <td>0.0377</td>\n",
       "      <td>125.038</td>\n",
       "      <td>https://api.spotify.com/v1/tracks/0zOiF5Cs58PS...</td>\n",
       "      <td>0.659</td>\n",
       "    </tr>\n",
       "  </tbody>\n",
       "</table>\n",
       "<p>1851 rows × 15 columns</p>\n",
       "</div>"
      ],
      "text/plain": [
       "              Singer  acousticness  danceability  energy  \\\n",
       "0        Aastha Gill       0.48500         0.770   0.824   \n",
       "1        Aastha Gill       0.14300         0.825   0.666   \n",
       "2        Aastha Gill       0.23600         0.663   0.551   \n",
       "3        Aastha Gill       0.00323         0.919   0.571   \n",
       "4        Aastha Gill       0.12900         0.867   0.720   \n",
       "...              ...           ...           ...     ...   \n",
       "2223  Vishal Dadlani       0.16500         0.741   0.711   \n",
       "2224  Vishal Dadlani       0.16800         0.588   0.852   \n",
       "2226  Vishal Dadlani       0.06300         0.701   0.966   \n",
       "2227  Vishal Dadlani       0.01370         0.524   0.753   \n",
       "2229  Vishal Dadlani       0.00926         0.841   0.536   \n",
       "\n",
       "                          id  instrumentalness  key  liveness  loudness  mode  \\\n",
       "0     39ujbBjTwwqUFySaCYDMMT          0.000000    1    0.3180    -6.491     0   \n",
       "1     5cjVsWqIkBQC7acTRhL0RO          0.000003    4    0.2370    -4.847     0   \n",
       "2     3XYvdqcZrTmRntFDDbJkJd          0.000036    3    0.0923    -8.272     0   \n",
       "3     46GBoFCdFZZSjuGaZjZmGv          0.001680    5    0.1030    -7.175     0   \n",
       "4     6VwVEIiCro1EMyh9B6Om3v          0.000000    9    0.2280    -5.188     0   \n",
       "...                      ...               ...  ...       ...       ...   ...   \n",
       "2223  24wb8Da2xkll8xZTjz0P6J          0.000000    2    0.0446    -8.402     1   \n",
       "2224  1yzetU0NF7DWaMIyjkDiJO          0.000006    2    0.1630    -6.356     1   \n",
       "2226  39bx4zZrPxTjw8VNuvjt6X          0.066200    0    0.0761    -5.360     1   \n",
       "2227  1d11xbMYeK2ldGOl5QiV2e          0.000000    3    0.1040    -6.596     1   \n",
       "2229  0zOiF5Cs58PST28uE7gsGf          0.000000    7    0.0665    -9.121     1   \n",
       "\n",
       "                     title  speechiness    tempo  \\\n",
       "0            Proper Patola       0.0851  172.006   \n",
       "1                 Kamariya       0.0554   96.987   \n",
       "2     Buzz (feat. Badshah)       0.1090  113.314   \n",
       "3              Saara India       0.0687  105.007   \n",
       "4             Drunk n High       0.0619  104.974   \n",
       "...                    ...          ...      ...   \n",
       "2223            Ratta Maar       0.0407  124.987   \n",
       "2224               Sainika       0.0655  113.910   \n",
       "2226              Criminal       0.0568  132.015   \n",
       "2227                Aao Na       0.0430  135.947   \n",
       "2229             Jame Raho       0.0377  125.038   \n",
       "\n",
       "                                             track_href  valence  \n",
       "0     https://api.spotify.com/v1/tracks/39ujbBjTwwqU...    0.490  \n",
       "1     https://api.spotify.com/v1/tracks/5cjVsWqIkBQC...    0.763  \n",
       "2     https://api.spotify.com/v1/tracks/3XYvdqcZrTmR...    0.601  \n",
       "3     https://api.spotify.com/v1/tracks/46GBoFCdFZZS...    0.231  \n",
       "4     https://api.spotify.com/v1/tracks/6VwVEIiCro1E...    0.755  \n",
       "...                                                 ...      ...  \n",
       "2223  https://api.spotify.com/v1/tracks/24wb8Da2xkll...    0.677  \n",
       "2224  https://api.spotify.com/v1/tracks/1yzetU0NF7DW...    0.502  \n",
       "2226  https://api.spotify.com/v1/tracks/39bx4zZrPxTj...    0.834  \n",
       "2227  https://api.spotify.com/v1/tracks/1d11xbMYeK2l...    0.560  \n",
       "2229  https://api.spotify.com/v1/tracks/0zOiF5Cs58PS...    0.659  \n",
       "\n",
       "[1851 rows x 15 columns]"
      ]
     },
     "execution_count": 177,
     "metadata": {},
     "output_type": "execute_result"
    }
   ],
   "source": [
    "df"
   ]
  }
 ],
 "metadata": {
  "kernelspec": {
   "display_name": "Python 3 (ipykernel)",
   "language": "python",
   "name": "python3"
  },
  "language_info": {
   "codemirror_mode": {
    "name": "ipython",
    "version": 3
   },
   "file_extension": ".py",
   "mimetype": "text/x-python",
   "name": "python",
   "nbconvert_exporter": "python",
   "pygments_lexer": "ipython3",
   "version": "3.9.7"
  }
 },
 "nbformat": 4,
 "nbformat_minor": 5
}
